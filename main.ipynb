{
 "cells": [
  {
   "cell_type": "code",
   "execution_count": 1,
   "metadata": {},
   "outputs": [
    {
     "data": {
      "text/html": [
       "<div>\n",
       "<style scoped>\n",
       "    .dataframe tbody tr th:only-of-type {\n",
       "        vertical-align: middle;\n",
       "    }\n",
       "\n",
       "    .dataframe tbody tr th {\n",
       "        vertical-align: top;\n",
       "    }\n",
       "\n",
       "    .dataframe thead th {\n",
       "        text-align: right;\n",
       "    }\n",
       "</style>\n",
       "<table border=\"1\" class=\"dataframe\">\n",
       "  <thead>\n",
       "    <tr style=\"text-align: right;\">\n",
       "      <th></th>\n",
       "      <th>Email_ID</th>\n",
       "      <th>Sender_Domain_Reputation</th>\n",
       "      <th>Email_Subject_Type</th>\n",
       "      <th>URL_Legitimacy_Score</th>\n",
       "      <th>Attachment_Type</th>\n",
       "      <th>Email_Presentation</th>\n",
       "      <th>User_ID</th>\n",
       "      <th>Stress_Level</th>\n",
       "      <th>Curiosity_Index</th>\n",
       "      <th>Urgency_Trigger</th>\n",
       "      <th>Prior_Training</th>\n",
       "      <th>Email_Opened</th>\n",
       "      <th>Link_Clicked</th>\n",
       "      <th>Attachment_Downloaded</th>\n",
       "      <th>Reported_Phishing</th>\n",
       "      <th>Time_to_React</th>\n",
       "    </tr>\n",
       "  </thead>\n",
       "  <tbody>\n",
       "    <tr>\n",
       "      <th>0</th>\n",
       "      <td>1</td>\n",
       "      <td>0.374540</td>\n",
       "      <td>Curiosity</td>\n",
       "      <td>0.519082</td>\n",
       "      <td>none</td>\n",
       "      <td>Poorly_Formed</td>\n",
       "      <td>145</td>\n",
       "      <td>0.757777</td>\n",
       "      <td>0.265047</td>\n",
       "      <td>1</td>\n",
       "      <td>0</td>\n",
       "      <td>0</td>\n",
       "      <td>1</td>\n",
       "      <td>0</td>\n",
       "      <td>0</td>\n",
       "      <td>NaN</td>\n",
       "    </tr>\n",
       "    <tr>\n",
       "      <th>1</th>\n",
       "      <td>2</td>\n",
       "      <td>0.950714</td>\n",
       "      <td>Fear</td>\n",
       "      <td>0.479182</td>\n",
       "      <td>none</td>\n",
       "      <td>Well_Formed</td>\n",
       "      <td>28</td>\n",
       "      <td>0.281918</td>\n",
       "      <td>0.672060</td>\n",
       "      <td>0</td>\n",
       "      <td>1</td>\n",
       "      <td>0</td>\n",
       "      <td>0</td>\n",
       "      <td>0</td>\n",
       "      <td>1</td>\n",
       "      <td>NaN</td>\n",
       "    </tr>\n",
       "    <tr>\n",
       "      <th>2</th>\n",
       "      <td>3</td>\n",
       "      <td>0.731994</td>\n",
       "      <td>Reward</td>\n",
       "      <td>0.025642</td>\n",
       "      <td>.pdf</td>\n",
       "      <td>Well_Formed</td>\n",
       "      <td>169</td>\n",
       "      <td>0.318040</td>\n",
       "      <td>0.052024</td>\n",
       "      <td>1</td>\n",
       "      <td>0</td>\n",
       "      <td>0</td>\n",
       "      <td>0</td>\n",
       "      <td>0</td>\n",
       "      <td>0</td>\n",
       "      <td>NaN</td>\n",
       "    </tr>\n",
       "    <tr>\n",
       "      <th>3</th>\n",
       "      <td>4</td>\n",
       "      <td>0.598658</td>\n",
       "      <td>Fear</td>\n",
       "      <td>0.341248</td>\n",
       "      <td>none</td>\n",
       "      <td>Poorly_Formed</td>\n",
       "      <td>194</td>\n",
       "      <td>0.924642</td>\n",
       "      <td>0.113646</td>\n",
       "      <td>0</td>\n",
       "      <td>1</td>\n",
       "      <td>0</td>\n",
       "      <td>0</td>\n",
       "      <td>0</td>\n",
       "      <td>0</td>\n",
       "      <td>NaN</td>\n",
       "    </tr>\n",
       "    <tr>\n",
       "      <th>4</th>\n",
       "      <td>5</td>\n",
       "      <td>0.156019</td>\n",
       "      <td>Fear</td>\n",
       "      <td>0.380196</td>\n",
       "      <td>.zip</td>\n",
       "      <td>Well_Formed</td>\n",
       "      <td>25</td>\n",
       "      <td>0.056224</td>\n",
       "      <td>0.003918</td>\n",
       "      <td>0</td>\n",
       "      <td>0</td>\n",
       "      <td>0</td>\n",
       "      <td>0</td>\n",
       "      <td>0</td>\n",
       "      <td>0</td>\n",
       "      <td>NaN</td>\n",
       "    </tr>\n",
       "  </tbody>\n",
       "</table>\n",
       "</div>"
      ],
      "text/plain": [
       "   Email_ID  Sender_Domain_Reputation Email_Subject_Type  \\\n",
       "0         1                  0.374540          Curiosity   \n",
       "1         2                  0.950714               Fear   \n",
       "2         3                  0.731994             Reward   \n",
       "3         4                  0.598658               Fear   \n",
       "4         5                  0.156019               Fear   \n",
       "\n",
       "   URL_Legitimacy_Score Attachment_Type Email_Presentation  User_ID  \\\n",
       "0              0.519082            none      Poorly_Formed      145   \n",
       "1              0.479182            none        Well_Formed       28   \n",
       "2              0.025642            .pdf        Well_Formed      169   \n",
       "3              0.341248            none      Poorly_Formed      194   \n",
       "4              0.380196            .zip        Well_Formed       25   \n",
       "\n",
       "   Stress_Level  Curiosity_Index  Urgency_Trigger  Prior_Training  \\\n",
       "0      0.757777         0.265047                1               0   \n",
       "1      0.281918         0.672060                0               1   \n",
       "2      0.318040         0.052024                1               0   \n",
       "3      0.924642         0.113646                0               1   \n",
       "4      0.056224         0.003918                0               0   \n",
       "\n",
       "   Email_Opened  Link_Clicked  Attachment_Downloaded  Reported_Phishing  \\\n",
       "0             0             1                      0                  0   \n",
       "1             0             0                      0                  1   \n",
       "2             0             0                      0                  0   \n",
       "3             0             0                      0                  0   \n",
       "4             0             0                      0                  0   \n",
       "\n",
       "   Time_to_React  \n",
       "0            NaN  \n",
       "1            NaN  \n",
       "2            NaN  \n",
       "3            NaN  \n",
       "4            NaN  "
      ]
     },
     "execution_count": 1,
     "metadata": {},
     "output_type": "execute_result"
    }
   ],
   "source": [
    "import pandas as pd\n",
    "\n",
    "# Block 1: Dataset loading\n",
    "df = pd.read_csv(\"Phishing_Human_Error_Dataset.csv\")\n",
    "df.head()\n"
   ]
  },
  {
   "cell_type": "code",
   "execution_count": 2,
   "metadata": {},
   "outputs": [
    {
     "name": "stdout",
     "output_type": "stream",
     "text": [
      "Requirement already satisfied: scikit-learn in c:\\users\\gopig\\appdata\\local\\packages\\pythonsoftwarefoundation.python.3.11_qbz5n2kfra8p0\\localcache\\local-packages\\python311\\site-packages (1.5.2)Note: you may need to restart the kernel to use updated packages.\n",
      "\n",
      "Requirement already satisfied: numpy>=1.19.5 in c:\\users\\gopig\\appdata\\local\\packages\\pythonsoftwarefoundation.python.3.11_qbz5n2kfra8p0\\localcache\\local-packages\\python311\\site-packages (from scikit-learn) (2.1.2)\n",
      "Requirement already satisfied: scipy>=1.6.0 in c:\\users\\gopig\\appdata\\local\\packages\\pythonsoftwarefoundation.python.3.11_qbz5n2kfra8p0\\localcache\\local-packages\\python311\\site-packages (from scikit-learn) (1.14.1)\n",
      "Requirement already satisfied: joblib>=1.2.0 in c:\\users\\gopig\\appdata\\local\\packages\\pythonsoftwarefoundation.python.3.11_qbz5n2kfra8p0\\localcache\\local-packages\\python311\\site-packages (from scikit-learn) (1.4.2)\n",
      "Requirement already satisfied: threadpoolctl>=3.1.0 in c:\\users\\gopig\\appdata\\local\\packages\\pythonsoftwarefoundation.python.3.11_qbz5n2kfra8p0\\localcache\\local-packages\\python311\\site-packages (from scikit-learn) (3.5.0)\n"
     ]
    },
    {
     "name": "stderr",
     "output_type": "stream",
     "text": [
      "\n",
      "[notice] A new release of pip is available: 24.0 -> 24.3.1\n",
      "[notice] To update, run: python.exe -m pip install --upgrade pip\n"
     ]
    }
   ],
   "source": [
    "pip install scikit-learn\n"
   ]
  },
  {
   "cell_type": "code",
   "execution_count": 3,
   "metadata": {},
   "outputs": [],
   "source": [
    "import sklearn\n"
   ]
  },
  {
   "cell_type": "code",
   "execution_count": 4,
   "metadata": {},
   "outputs": [
    {
     "name": "stdout",
     "output_type": "stream",
     "text": [
      "Requirement already satisfied: seaborn in c:\\users\\gopig\\appdata\\local\\packages\\pythonsoftwarefoundation.python.3.11_qbz5n2kfra8p0\\localcache\\local-packages\\python311\\site-packages (0.13.2)\n",
      "Requirement already satisfied: numpy!=1.24.0,>=1.20 in c:\\users\\gopig\\appdata\\local\\packages\\pythonsoftwarefoundation.python.3.11_qbz5n2kfra8p0\\localcache\\local-packages\\python311\\site-packages (from seaborn) (2.1.2)\n",
      "Requirement already satisfied: pandas>=1.2 in c:\\users\\gopig\\appdata\\local\\packages\\pythonsoftwarefoundation.python.3.11_qbz5n2kfra8p0\\localcache\\local-packages\\python311\\site-packages (from seaborn) (2.2.3)\n",
      "Requirement already satisfied: matplotlib!=3.6.1,>=3.4 in c:\\users\\gopig\\appdata\\local\\packages\\pythonsoftwarefoundation.python.3.11_qbz5n2kfra8p0\\localcache\\local-packages\\python311\\site-packages (from seaborn) (3.9.2)\n",
      "Requirement already satisfied: contourpy>=1.0.1 in c:\\users\\gopig\\appdata\\local\\packages\\pythonsoftwarefoundation.python.3.11_qbz5n2kfra8p0\\localcache\\local-packages\\python311\\site-packages (from matplotlib!=3.6.1,>=3.4->seaborn) (1.3.1)\n",
      "Requirement already satisfied: cycler>=0.10 in c:\\users\\gopig\\appdata\\local\\packages\\pythonsoftwarefoundation.python.3.11_qbz5n2kfra8p0\\localcache\\local-packages\\python311\\site-packages (from matplotlib!=3.6.1,>=3.4->seaborn) (0.12.1)\n",
      "Requirement already satisfied: fonttools>=4.22.0 in c:\\users\\gopig\\appdata\\local\\packages\\pythonsoftwarefoundation.python.3.11_qbz5n2kfra8p0\\localcache\\local-packages\\python311\\site-packages (from matplotlib!=3.6.1,>=3.4->seaborn) (4.55.0)\n",
      "Requirement already satisfied: kiwisolver>=1.3.1 in c:\\users\\gopig\\appdata\\local\\packages\\pythonsoftwarefoundation.python.3.11_qbz5n2kfra8p0\\localcache\\local-packages\\python311\\site-packages (from matplotlib!=3.6.1,>=3.4->seaborn) (1.4.7)\n",
      "Requirement already satisfied: packaging>=20.0 in c:\\users\\gopig\\appdata\\local\\packages\\pythonsoftwarefoundation.python.3.11_qbz5n2kfra8p0\\localcache\\local-packages\\python311\\site-packages (from matplotlib!=3.6.1,>=3.4->seaborn) (24.1)\n",
      "Requirement already satisfied: pillow>=8 in c:\\users\\gopig\\appdata\\local\\packages\\pythonsoftwarefoundation.python.3.11_qbz5n2kfra8p0\\localcache\\local-packages\\python311\\site-packages (from matplotlib!=3.6.1,>=3.4->seaborn) (10.4.0)\n",
      "Requirement already satisfied: pyparsing>=2.3.1 in c:\\users\\gopig\\appdata\\local\\packages\\pythonsoftwarefoundation.python.3.11_qbz5n2kfra8p0\\localcache\\local-packages\\python311\\site-packages (from matplotlib!=3.6.1,>=3.4->seaborn) (3.2.0)\n",
      "Requirement already satisfied: python-dateutil>=2.7 in c:\\users\\gopig\\appdata\\local\\packages\\pythonsoftwarefoundation.python.3.11_qbz5n2kfra8p0\\localcache\\local-packages\\python311\\site-packages (from matplotlib!=3.6.1,>=3.4->seaborn) (2.9.0.post0)\n",
      "Requirement already satisfied: pytz>=2020.1 in c:\\users\\gopig\\appdata\\local\\packages\\pythonsoftwarefoundation.python.3.11_qbz5n2kfra8p0\\localcache\\local-packages\\python311\\site-packages (from pandas>=1.2->seaborn) (2024.2)\n",
      "Requirement already satisfied: tzdata>=2022.7 in c:\\users\\gopig\\appdata\\local\\packages\\pythonsoftwarefoundation.python.3.11_qbz5n2kfra8p0\\localcache\\local-packages\\python311\\site-packages (from pandas>=1.2->seaborn) (2024.2)\n",
      "Requirement already satisfied: six>=1.5 in c:\\users\\gopig\\appdata\\local\\packages\\pythonsoftwarefoundation.python.3.11_qbz5n2kfra8p0\\localcache\\local-packages\\python311\\site-packages (from python-dateutil>=2.7->matplotlib!=3.6.1,>=3.4->seaborn) (1.16.0)\n",
      "Note: you may need to restart the kernel to use updated packages.\n"
     ]
    },
    {
     "name": "stderr",
     "output_type": "stream",
     "text": [
      "\n",
      "[notice] A new release of pip is available: 24.0 -> 24.3.1\n",
      "[notice] To update, run: python.exe -m pip install --upgrade pip\n"
     ]
    }
   ],
   "source": [
    "pip install seaborn\n"
   ]
  },
  {
   "cell_type": "code",
   "execution_count": 5,
   "metadata": {},
   "outputs": [],
   "source": [
    "import pandas as pd\n",
    "import numpy as np\n",
    "from sklearn.model_selection import train_test_split\n",
    "from sklearn.ensemble import RandomForestClassifier\n",
    "from sklearn.metrics import classification_report, confusion_matrix\n",
    "import seaborn as sns\n",
    "import matplotlib.pyplot as plt\n",
    "from sklearn.linear_model import LogisticRegression"
   ]
  },
  {
   "cell_type": "code",
   "execution_count": 6,
   "metadata": {},
   "outputs": [
    {
     "name": "stdout",
     "output_type": "stream",
     "text": [
      "   Email_ID  Sender_Domain_Reputation Email_Subject_Type  \\\n",
      "0         1                  0.374540          Curiosity   \n",
      "1         2                  0.950714               Fear   \n",
      "2         3                  0.731994             Reward   \n",
      "3         4                  0.598658               Fear   \n",
      "4         5                  0.156019               Fear   \n",
      "\n",
      "   URL_Legitimacy_Score Attachment_Type Email_Presentation  User_ID  \\\n",
      "0              0.519082            none      Poorly_Formed      145   \n",
      "1              0.479182            none        Well_Formed       28   \n",
      "2              0.025642            .pdf        Well_Formed      169   \n",
      "3              0.341248            none      Poorly_Formed      194   \n",
      "4              0.380196            .zip        Well_Formed       25   \n",
      "\n",
      "   Stress_Level  Curiosity_Index  Urgency_Trigger  Prior_Training  \\\n",
      "0      0.757777         0.265047                1               0   \n",
      "1      0.281918         0.672060                0               1   \n",
      "2      0.318040         0.052024                1               0   \n",
      "3      0.924642         0.113646                0               1   \n",
      "4      0.056224         0.003918                0               0   \n",
      "\n",
      "   Email_Opened  Link_Clicked  Attachment_Downloaded  Reported_Phishing  \\\n",
      "0             0             1                      0                  0   \n",
      "1             0             0                      0                  1   \n",
      "2             0             0                      0                  0   \n",
      "3             0             0                      0                  0   \n",
      "4             0             0                      0                  0   \n",
      "\n",
      "   Time_to_React  \n",
      "0            NaN  \n",
      "1            NaN  \n",
      "2            NaN  \n",
      "3            NaN  \n",
      "4            NaN  \n"
     ]
    }
   ],
   "source": [
    "# Load dataset\n",
    "df = pd.read_csv(\"Phishing_Human_Error_Dataset.csv\")\n",
    "\n",
    "# Display the first few rows\n",
    "print(df.head())\n"
   ]
  },
  {
   "cell_type": "code",
   "execution_count": 7,
   "metadata": {},
   "outputs": [],
   "source": [
    "# Convert categorical columns to numeric (e.g., one-hot encoding)\n",
    "df = pd.get_dummies(df, columns=[\"Email_Subject_Type\", \"Attachment_Type\", \"Email_Presentation\"], drop_first=True)\n",
    "\n",
    "# Fill missing values in 'Time_to_React' with median\n",
    "df[\"Time_to_React\"] = df[\"Time_to_React\"].fillna(df[\"Time_to_React\"].median())\n",
    "\n",
    "# Normalize numerical features if needed (optional)\n",
    "from sklearn.preprocessing import MinMaxScaler\n",
    "scaler = MinMaxScaler()\n",
    "numerical_columns = [\"Sender_Domain_Reputation\", \"URL_Legitimacy_Score\", \"Stress_Level\", \"Curiosity_Index\", \"Time_to_React\"]\n",
    "df[numerical_columns] = scaler.fit_transform(df[numerical_columns])\n"
   ]
  },
  {
   "cell_type": "markdown",
   "metadata": {},
   "source": [
    "TRAINING PART"
   ]
  },
  {
   "cell_type": "code",
   "execution_count": 8,
   "metadata": {},
   "outputs": [
    {
     "name": "stdout",
     "output_type": "stream",
     "text": [
      "Training set size: (800, 16)\n",
      "Test set size: (200, 16)\n"
     ]
    }
   ],
   "source": [
    "# Define features and target\n",
    "X = df.drop(columns=[\"Email_ID\", \"User_ID\", \"Link_Clicked\"])  # Drop non-predictive columns\n",
    "y = df[\"Link_Clicked\"]  # Target variable\n",
    "\n",
    "# Split into train and test sets\n",
    "X_train, X_test, y_train, y_test = train_test_split(X, y, test_size=0.2, random_state=42)\n",
    "\n",
    "print(f\"Training set size: {X_train.shape}\")\n",
    "print(f\"Test set size: {X_test.shape}\")\n"
   ]
  },
  {
   "cell_type": "code",
   "execution_count": 9,
   "metadata": {},
   "outputs": [
    {
     "name": "stdout",
     "output_type": "stream",
     "text": [
      "Training Accuracy: 100.00%\n"
     ]
    }
   ],
   "source": [
    "from sklearn.ensemble import RandomForestClassifier\n",
    "\n",
    "# Initialize Random Forest model\n",
    "model = RandomForestClassifier(\n",
    "    n_estimators=100,  # Number of trees in the forest\n",
    "    max_depth=None,    # Maximum depth of each tree (default is no limit)\n",
    "    min_samples_split=2,  # Minimum samples required to split a node\n",
    "    min_samples_leaf=1,   # Minimum samples required in a leaf node\n",
    "    random_state=42       # Ensures reproducibility\n",
    ")\n",
    "\n",
    "# Train the model\n",
    "model.fit(X_train, y_train)\n",
    "\n",
    "# Evaluate training accuracy\n",
    "train_accuracy = model.score(X_train, y_train)\n",
    "print(f\"Training Accuracy: {train_accuracy * 100:.2f}%\")"
   ]
  },
  {
   "cell_type": "code",
   "execution_count": 10,
   "metadata": {},
   "outputs": [
    {
     "name": "stdout",
     "output_type": "stream",
     "text": [
      "Test Accuracy: 99.50%\n"
     ]
    }
   ],
   "source": [
    "# Predict on the test set\n",
    "y_pred = model.predict(X_test)\n",
    "\n",
    "# Evaluate test accuracy\n",
    "test_accuracy = model.score(X_test, y_test)\n",
    "print(f\"Test Accuracy: {test_accuracy * 100:.2f}%\")\n"
   ]
  },
  {
   "cell_type": "code",
   "execution_count": 11,
   "metadata": {},
   "outputs": [
    {
     "data": {
      "text/plain": [
       "['scaler.pkl']"
      ]
     },
     "execution_count": 11,
     "metadata": {},
     "output_type": "execute_result"
    }
   ],
   "source": [
    "import joblib\n",
    "\n",
    "# Save the trained model\n",
    "joblib.dump(model, \"random_forest_model.pkl\")\n",
    "\n",
    "# Save the scaler\n",
    "joblib.dump(scaler, \"scaler.pkl\")\n"
   ]
  },
  {
   "cell_type": "code",
   "execution_count": 12,
   "metadata": {},
   "outputs": [
    {
     "name": "stdout",
     "output_type": "stream",
     "text": [
      "Classification Report:\n",
      "              precision    recall  f1-score   support\n",
      "\n",
      "           0       0.99      1.00      1.00       189\n",
      "           1       1.00      0.91      0.95        11\n",
      "\n",
      "    accuracy                           0.99       200\n",
      "   macro avg       1.00      0.95      0.97       200\n",
      "weighted avg       1.00      0.99      0.99       200\n",
      "\n"
     ]
    },
    {
     "data": {
      "image/png": "[encoded data removed]",
      "text/plain": [
       "<Figure size 640x480 with 2 Axes>"
      ]
     },
     "metadata": {},
     "output_type": "display_data"
    }
   ],
   "source": [
    "# Classification Report\n",
    "print(\"Classification Report:\")\n",
    "print(classification_report(y_test, y_pred))\n",
    "\n",
    "# Confusion Matrix\n",
    "conf_matrix = confusion_matrix(y_test, y_pred)\n",
    "\n",
    "# Visualize Confusion Matrix\n",
    "sns.heatmap(conf_matrix, annot=True, fmt='d', cmap=\"Blues\", xticklabels=[\"Not Clicked\", \"Clicked\"], yticklabels=[\"Not Clicked\", \"Clicked\"])\n",
    "plt.xlabel(\"Predicted\")\n",
    "plt.ylabel(\"Actual\")\n",
    "plt.title(\"Confusion Matrix\")\n",
    "plt.show()\n"
   ]
  },
  {
   "cell_type": "code",
   "execution_count": 14,
   "metadata": {},
   "outputs": [
    {
     "data": {
      "image/png": "[encoded data removed]",
      "text/plain": [
       "<Figure size 1000x600 with 1 Axes>"
      ]
     },
     "metadata": {},
     "output_type": "display_data"
    }
   ],
   "source": [
    "# Feature Importance\n",
    "importances = model.feature_importances_\n",
    "feature_names = X.columns\n",
    "\n",
    "# Sort and visualize\n",
    "sorted_indices = np.argsort(importances)[::-1]\n",
    "plt.figure(figsize=(10, 6))\n",
    "plt.bar(range(len(importances)), importances[sorted_indices], align=\"center\")\n",
    "plt.xticks(range(len(importances)), feature_names[sorted_indices], rotation=90)\n",
    "plt.title(\"Feature Importance\")\n",
    "plt.show()\n"
   ]
  },
  {
   "cell_type": "code",
   "execution_count": 23,
   "metadata": {},
   "outputs": [
    {
     "name": "stdout",
     "output_type": "stream",
     "text": [
      "Normalized Weights: {'Sender_Domain_Reputation': 0.10169491525423728, 'URL_Legitimacy_Score': 0.10169491525423728, 'Stress_Level': 0.10169491525423728, 'Curiosity_Index': 0.06779661016949153, 'Urgency_Trigger': 0.10169491525423728, 'Prior_Training': -0.01694915254237288, 'Email_Subject_Type_Fear': 0.0847457627118644, 'Email_Subject_Type_Reward': 0.0847457627118644, 'Email_Subject_Type_Curiosity': 0.05084745762711864, 'Attachment_Type_.zip': 0.0847457627118644, 'Attachment_Type_.pdf': 0.06779661016949153, 'Attachment_Type_none': 0.03389830508474576, 'Email_Presentation_Well_Formed': -0.01694915254237288, 'Email_Presentation_Poorly_Formed': 0.0847457627118644}\n",
      "User Input DataFrame:\n",
      "   Sender_Domain_Reputation  URL_Legitimacy_Score  Stress_Level  \\\n",
      "0                       1.0                   1.0           1.0   \n",
      "\n",
      "   Curiosity_Index  Urgency_Trigger  Prior_Training  Email_Subject_Type_Fear  \\\n",
      "0              1.0              1.0             0.1                        1   \n",
      "\n",
      "   Email_Subject_Type_Reward  Email_Subject_Type_Curiosity  \\\n",
      "0                          0                             0   \n",
      "\n",
      "   Attachment_Type_.zip  Attachment_Type_none  Attachment_Type_.pdf  \\\n",
      "0                     1                     0                     0   \n",
      "\n",
      "   Email_Presentation_Well_Formed  Email_Presentation_Poorly_Formed  \n",
      "0                               0                                 0  \n",
      "Feature: Sender_Domain_Reputation, Value: 1.0, Weight: 0.10169491525423728, Contribution: 0.10169491525423728\n",
      "Feature: URL_Legitimacy_Score, Value: 1.0, Weight: 0.10169491525423728, Contribution: 0.10169491525423728\n",
      "Feature: Stress_Level, Value: 1.0, Weight: 0.10169491525423728, Contribution: 0.10169491525423728\n",
      "Feature: Curiosity_Index, Value: 1.0, Weight: 0.06779661016949153, Contribution: 0.06779661016949153\n",
      "Feature: Urgency_Trigger, Value: 1.0, Weight: 0.10169491525423728, Contribution: 0.10169491525423728\n",
      "Feature: Prior_Training, Value: 0.1, Weight: -0.01694915254237288, Contribution: -0.0016949152542372883\n",
      "Feature: Email_Subject_Type_Fear, Value: 1, Weight: 0.0847457627118644, Contribution: 0.0847457627118644\n",
      "Feature: Email_Subject_Type_Reward, Value: 0, Weight: 0.0847457627118644, Contribution: 0.0\n",
      "Feature: Email_Subject_Type_Curiosity, Value: 0, Weight: 0.05084745762711864, Contribution: 0.0\n",
      "Feature: Attachment_Type_.zip, Value: 1, Weight: 0.0847457627118644, Contribution: 0.0847457627118644\n",
      "Feature: Attachment_Type_.pdf, Value: 0, Weight: 0.06779661016949153, Contribution: 0.0\n",
      "Feature: Attachment_Type_none, Value: 0, Weight: 0.03389830508474576, Contribution: 0.0\n",
      "Feature: Email_Presentation_Well_Formed, Value: 0, Weight: -0.01694915254237288, Contribution: -0.0\n",
      "Feature: Email_Presentation_Poorly_Formed, Value: 0, Weight: 0.0847457627118644, Contribution: 0.0\n",
      "Intermediate Risk Score: 0.6423728813559322\n",
      "Risk Percentage (%): 64.24%\n",
      "\n",
      "Final Risk Percentage: 64.24%\n"
     ]
    }
   ],
   "source": [
    "import pandas as pd\n",
    "\n",
    "# Example feature columns obtained from training\n",
    "feature_columns = [\n",
    "    \"Sender_Domain_Reputation\", \"URL_Legitimacy_Score\", \"Stress_Level\",\n",
    "    \"Curiosity_Index\", \"Urgency_Trigger\", \"Prior_Training\", \"Email_Subject_Type_Fear\",\n",
    "    \"Email_Subject_Type_Reward\", \"Attachment_Type_.zip\", \"Attachment_Type_none\",\n",
    "    \"Email_Presentation_Well_Formed\", \"Email_Opened\", \"Attachment_Downloaded\", \"Reported_Phishing\"\n",
    "]\n",
    "\n",
    "# Collect user input (0-10 scale, normalize to 0-1 for most features)\n",
    "user_data = {\n",
    "    \"Sender_Domain_Reputation\": [float(input(\"Enter Sender Domain Reputation (0-10): \")) / 10],  # Scale to 0-1\n",
    "    \"URL_Legitimacy_Score\": [float(input(\"Enter URL Legitimacy Score (0-10): \")) / 10],          # Scale to 0-1\n",
    "    \"Stress_Level\": [float(input(\"Enter Stress Level (0-10): \")) / 10],                         # Scale to 0-1\n",
    "    \"Curiosity_Index\": [float(input(\"Enter Curiosity Index (0-10): \")) / 10],                   # Scale to 0-1\n",
    "    \"Urgency_Trigger\": [float(input(\"Enter Urgency Trigger (0 or 10): \")) / 10],                  # Scale to 0-1\n",
    "    \"Prior_Training\": [float(input(\"Enter Prior Training (0 or 10): \")) / 10],\n",
    "}\n",
    "email_subject_type = input(\"Enter Email Subject Type (Fear/Reward/Curiosity): \").strip().lower()\n",
    "user_data[\"Email_Subject_Type_Fear\"] = [1 if email_subject_type == \"fear\" else 0]\n",
    "user_data[\"Email_Subject_Type_Reward\"] = [1 if email_subject_type == \"reward\" else 0]\n",
    "user_data[\"Email_Subject_Type_Curiosity\"] = [1 if email_subject_type == \"curiosity\" else 0]\n",
    "attachment_type = input(\"Enter Attachment Type (.zip/none/.pdf): \").strip().lower()\n",
    "user_data[\"Attachment_Type_.zip\"] = [1 if attachment_type == \".zip\" else 0]\n",
    "user_data[\"Attachment_Type_none\"] = [1 if attachment_type == \"none\" else 0]\n",
    "user_data[\"Attachment_Type_.pdf\"] = [1 if attachment_type == \".pdf\" else 0]\n",
    "\n",
    "user_data[\"Email_Presentation_Well_Formed\"] = [1 if input(\"Is Email Well-Formed (yes/no): \").strip().lower() == \"yes\" else 0]\n",
    "\n",
    "# Convert to DataFrame\n",
    "user_input_df = pd.DataFrame(user_data)\n",
    "\n",
    "# Adjusted weights normalized to sum approximately to 1\n",
    "weights = {\n",
    "    \"Sender_Domain_Reputation\": 0.3, # 1-10, 10 being a very bad reputation\n",
    "    \"URL_Legitimacy_Score\": 0.3, # 1-10, 10 being a very bad reputation\n",
    "    \"Stress_Level\": 0.3, # 1-10, 10 being a very high stress level\n",
    "    \"Curiosity_Index\": 0.2, # 1-10, 10 being a very curious\n",
    "    \"Urgency_Trigger\": 0.3, # 1-10, 10 being drawn to urgency\n",
    "    \"Prior_Training\": -0.05, # 1-10, 10 being most training\n",
    "    \"Email_Subject_Type_Fear\": 0.25, # 1-10, 10 being falling trap to fear more\n",
    "    \"Email_Subject_Type_Reward\": 0.25, # 1-10, 10 being falling trap to fear more\n",
    "    \"Email_Subject_Type_Curiosity\": 0.15, # 1-10, 10 being more curious\n",
    "    \"Attachment_Type_.zip\": 0.25,\n",
    "    \"Attachment_Type_.pdf\": 0.2,\n",
    "    \"Attachment_Type_none\": 0.1,\n",
    "    \"Email_Presentation_Well_Formed\": -0.05,\n",
    "    \"Email_Presentation_Poorly_Formed\": 0.25\n",
    "}\n",
    "\n",
    "# Normalize weights to sum to 1\n",
    "total_weight = sum(abs(w) for w in weights.values())\n",
    "normalized_weights = {k: v / total_weight for k, v in weights.items()}\n",
    "\n",
    "# Debug: Print normalized weights\n",
    "print(\"Normalized Weights:\", normalized_weights)\n",
    "\n",
    "# Ensure all expected columns are present\n",
    "for col in weights.keys():\n",
    "    if col not in user_input_df.columns:\n",
    "        user_input_df[col] = 0  # Fill missing columns with 0\n",
    "\n",
    "# Debug: Print user input data after ensuring all features are present\n",
    "print(\"User Input DataFrame:\")\n",
    "print(user_input_df)\n",
    "\n",
    "# Calculate phishing risk score\n",
    "risk_score = 0\n",
    "for feature, weight in normalized_weights.items():\n",
    "    risk_score += user_input_df[feature][0] * weight\n",
    "    # Debug: Log contribution of each feature to risk score\n",
    "    print(f\"Feature: {feature}, Value: {user_input_df[feature][0]}, Weight: {weight}, Contribution: {user_input_df[feature][0] * weight}\")\n",
    "\n",
    "# Convert risk score to percentage (between 0 and 100)\n",
    "risk_percentage = max(0, min(risk_score * 100, 100))\n",
    "\n",
    "# Debug: Print intermediate risk score and final percentage\n",
    "print(\"Intermediate Risk Score:\", risk_score)\n",
    "print(f\"Risk Percentage (%): {risk_percentage:.2f}%\")\n",
    "\n",
    "# Ensure the input has the same columns as the training data\n",
    "for col in feature_columns:\n",
    "    if col not in user_input_df.columns:\n",
    "        user_input_df[col] = 0  # Add missing columns with default value\n",
    "\n",
    "# Reorder the columns to match the training data\n",
    "user_input_df = user_input_df[feature_columns]\n",
    "\n",
    "# Output the risk percentage\n",
    "print(f\"\\nFinal Risk Percentage: {risk_percentage:.2f}%\")\n"
   ]
  },
  {
   "cell_type": "code",
   "execution_count": 18,
   "metadata": {},
   "outputs": [
    {
     "name": "stdout",
     "output_type": "stream",
     "text": [
      "Requirement already satisfied: flask in c:\\users\\gopig\\appdata\\local\\packages\\pythonsoftwarefoundation.python.3.11_qbz5n2kfra8p0\\localcache\\local-packages\\python311\\site-packages (3.1.0)\n",
      "Requirement already satisfied: pandas in c:\\users\\gopig\\appdata\\local\\packages\\pythonsoftwarefoundation.python.3.11_qbz5n2kfra8p0\\localcache\\local-packages\\python311\\site-packages (2.2.3)\n",
      "Requirement already satisfied: Werkzeug>=3.1 in c:\\users\\gopig\\appdata\\local\\packages\\pythonsoftwarefoundation.python.3.11_qbz5n2kfra8p0\\localcache\\local-packages\\python311\\site-packages (from flask) (3.1.3)\n",
      "Requirement already satisfied: Jinja2>=3.1.2 in c:\\users\\gopig\\appdata\\local\\packages\\pythonsoftwarefoundation.python.3.11_qbz5n2kfra8p0\\localcache\\local-packages\\python311\\site-packages (from flask) (3.1.4)\n",
      "Requirement already satisfied: itsdangerous>=2.2 in c:\\users\\gopig\\appdata\\local\\packages\\pythonsoftwarefoundation.python.3.11_qbz5n2kfra8p0\\localcache\\local-packages\\python311\\site-packages (from flask) (2.2.0)\n",
      "Requirement already satisfied: click>=8.1.3 in c:\\users\\gopig\\appdata\\local\\packages\\pythonsoftwarefoundation.python.3.11_qbz5n2kfra8p0\\localcache\\local-packages\\python311\\site-packages (from flask) (8.1.7)\n",
      "Requirement already satisfied: blinker>=1.9 in c:\\users\\gopig\\appdata\\local\\packages\\pythonsoftwarefoundation.python.3.11_qbz5n2kfra8p0\\localcache\\local-packages\\python311\\site-packages (from flask) (1.9.0)\n",
      "Requirement already satisfied: numpy>=1.23.2 in c:\\users\\gopig\\appdata\\local\\packages\\pythonsoftwarefoundation.python.3.11_qbz5n2kfra8p0\\localcache\\local-packages\\python311\\site-packages (from pandas) (2.1.2)\n",
      "Requirement already satisfied: python-dateutil>=2.8.2 in c:\\users\\gopig\\appdata\\local\\packages\\pythonsoftwarefoundation.python.3.11_qbz5n2kfra8p0\\localcache\\local-packages\\python311\\site-packages (from pandas) (2.9.0.post0)\n",
      "Requirement already satisfied: pytz>=2020.1 in c:\\users\\gopig\\appdata\\local\\packages\\pythonsoftwarefoundation.python.3.11_qbz5n2kfra8p0\\localcache\\local-packages\\python311\\site-packages (from pandas) (2024.2)\n",
      "Requirement already satisfied: tzdata>=2022.7 in c:\\users\\gopig\\appdata\\local\\packages\\pythonsoftwarefoundation.python.3.11_qbz5n2kfra8p0\\localcache\\local-packages\\python311\\site-packages (from pandas) (2024.2)\n",
      "Requirement already satisfied: colorama in c:\\users\\gopig\\appdata\\local\\packages\\pythonsoftwarefoundation.python.3.11_qbz5n2kfra8p0\\localcache\\local-packages\\python311\\site-packages (from click>=8.1.3->flask) (0.4.6)\n",
      "Requirement already satisfied: MarkupSafe>=2.0 in c:\\users\\gopig\\appdata\\local\\packages\\pythonsoftwarefoundation.python.3.11_qbz5n2kfra8p0\\localcache\\local-packages\\python311\\site-packages (from Jinja2>=3.1.2->flask) (3.0.1)\n",
      "Requirement already satisfied: six>=1.5 in c:\\users\\gopig\\appdata\\local\\packages\\pythonsoftwarefoundation.python.3.11_qbz5n2kfra8p0\\localcache\\local-packages\\python311\\site-packages (from python-dateutil>=2.8.2->pandas) (1.16.0)\n",
      "Note: you may need to restart the kernel to use updated packages.\n"
     ]
    },
    {
     "name": "stderr",
     "output_type": "stream",
     "text": [
      "\n",
      "[notice] A new release of pip is available: 24.0 -> 24.3.1\n",
      "[notice] To update, run: python.exe -m pip install --upgrade pip\n"
     ]
    }
   ],
   "source": [
    "pip install flask pandas\n"
   ]
  }
 ],
 "metadata": {
  "kernelspec": {
   "display_name": "Python 3",
   "language": "python",
   "name": "python3"
  },
  "language_info": {
   "codemirror_mode": {
    "name": "ipython",
    "version": 3
   },
   "file_extension": ".py",
   "mimetype": "text/x-python",
   "name": "python",
   "nbconvert_exporter": "python",
   "pygments_lexer": "ipython3",
   "version": "3.11.9"
  }
 },
 "nbformat": 4,
 "nbformat_minor": 2
}
